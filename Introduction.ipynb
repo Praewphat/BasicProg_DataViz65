{
  "nbformat": 4,
  "nbformat_minor": 0,
  "metadata": {
    "colab": {
      "name": "Introduction.ipynb",
      "provenance": [],
      "authorship_tag": "ABX9TyNrpZiiVmninXmzUQDcCRJ9",
      "include_colab_link": true
    },
    "kernelspec": {
      "name": "python3",
      "display_name": "Python 3"
    },
    "language_info": {
      "name": "python"
    }
  },
  "cells": [
    {
      "cell_type": "markdown",
      "metadata": {
        "id": "view-in-github",
        "colab_type": "text"
      },
      "source": [
        "<a href=\"https://colab.research.google.com/github/Praewphat/BasicProg_DataViz65/blob/main/Introduction.ipynb\" target=\"_parent\"><img src=\"https://colab.research.google.com/assets/colab-badge.svg\" alt=\"Open In Colab\"/></a>"
      ]
    },
    {
      "cell_type": "code",
      "execution_count": null,
      "metadata": {
        "id": "N2kf5r3iFJRa"
      },
      "outputs": [],
      "source": [
        ""
      ]
    },
    {
      "cell_type": "markdown",
      "source": [
        "ภัทรวดี นาดี (633021022-2)"
      ],
      "metadata": {
        "id": "LKZzyBgGHO2G"
      }
    },
    {
      "cell_type": "markdown",
      "source": [
        " Markdow\n",
        " https://www.markdownguide.org/cheat-sheet/"
      ],
      "metadata": {
        "id": "cWRRNhMvGurW"
      }
    },
    {
      "cell_type": "markdown",
      "source": [
        "###Heading"
      ],
      "metadata": {
        "id": "OF2XtZaiGypO"
      }
    },
    {
      "cell_type": "code",
      "source": [
        "print('praew')"
      ],
      "metadata": {
        "colab": {
          "base_uri": "https://localhost:8080/"
        },
        "id": "P1vftL6GHB-I",
        "outputId": "8445c498-9f6d-40c7-d837-364596e98129"
      },
      "execution_count": null,
      "outputs": [
        {
          "output_type": "stream",
          "name": "stdout",
          "text": [
            "praew\n"
          ]
        }
      ]
    }
  ]
}