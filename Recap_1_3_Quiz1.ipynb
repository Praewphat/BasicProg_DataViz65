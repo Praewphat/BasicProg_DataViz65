{
  "nbformat": 4,
  "nbformat_minor": 0,
  "metadata": {
    "colab": {
      "name": "Recap 1-3 Quiz1.ipynb",
      "provenance": [],
      "authorship_tag": "ABX9TyMR8a0tSloluUoIMsm8kDtS",
      "include_colab_link": true
    },
    "kernelspec": {
      "name": "python3",
      "display_name": "Python 3"
    },
    "language_info": {
      "name": "python"
    }
  },
  "cells": [
    {
      "cell_type": "markdown",
      "metadata": {
        "id": "view-in-github",
        "colab_type": "text"
      },
      "source": [
        "<a href=\"https://colab.research.google.com/github/Praewphat/BasicProg_DataViz65/blob/main/Recap_1_3_Quiz1.ipynb\" target=\"_parent\"><img src=\"https://colab.research.google.com/assets/colab-badge.svg\" alt=\"Open In Colab\"/></a>"
      ]
    },
    {
      "cell_type": "markdown",
      "source": [
        "Quiz 1 \n",
        "\n",
        "คำนวณเวลาเป็นความต่างของเวลาเป็นวินาทีของช่วงเวลาต่อไปนี้โดยใช้คำสั่ง split() ช่วย และ print ออกมาให้สวยงาม\n",
        "\n",
        "* 09:11:50 - 12:30:15\n",
        "* 13:41:07 - 20:00:18\n",
        "* 21:30:15 - 00:00:00\n",
        "* 00:00:00 - 23:59:59"
      ],
      "metadata": {
        "id": "El85CZ_NYVMG"
      }
    },
    {
      "cell_type": "code",
      "execution_count": 6,
      "metadata": {
        "colab": {
          "base_uri": "https://localhost:8080/"
        },
        "id": "M1ulOEdAX7mt",
        "outputId": "a0b45fb1-5f55-453a-f637-d5294b379599"
      },
      "outputs": [
        {
          "output_type": "stream",
          "name": "stdout",
          "text": [
            "['09', '11', '50']\n",
            "['12', '30', '15']\n",
            "09:11:50-12:30:15 ความต่างของเวลาเป็นวินาทีเท่ากับ 11905 วินาที\n"
          ]
        }
      ],
      "source": [
        "#ข้อ 1 09:11:50 - 12:30:15\n",
        "A ='09:11:50'\n",
        "A_sp = A.split(':')\n",
        "print(A_sp)\n",
        "ans_A=int(A_sp[0])*60*60+int(A_sp[1])*60 + int(A_sp[2])\n",
        "\n",
        "a ='12:30:15'\n",
        "a_sp = a.split(':')\n",
        "print(a_sp)\n",
        "ans_a=int(a_sp[0])*60*60+int(a_sp[1])*60 + int(a_sp[2])\n",
        "print(f'{A}-{a} ความต่างของเวลาเป็นวินาทีเท่ากับ {ans_a-ans_A} วินาที')"
      ]
    },
    {
      "cell_type": "code",
      "source": [
        "#ข้อ 2 13:41:07 - 20:00:18\n",
        "B ='13:41:07'\n",
        "B_sp = B.split(':')\n",
        "print(B_sp)\n",
        "ans_B=int(B_sp[0])*60*60+int(B_sp[1])*60 + int(B_sp[2])\n",
        "\n",
        "b ='20:00:18'\n",
        "b_sp = b.split(':')\n",
        "print(b_sp)\n",
        "ans_b=int(b_sp[0])*60*60+int(b_sp[1])*60 + int(b_sp[2])\n",
        "print(f'{B}-{b} ความต่างของเวลาเป็นวินาทีเท่ากับ {ans_b-ans_B} วินาที')"
      ],
      "metadata": {
        "colab": {
          "base_uri": "https://localhost:8080/"
        },
        "id": "1jDBJBz2aIOh",
        "outputId": "58b27d26-0d41-43b4-a971-9823b450f89c"
      },
      "execution_count": 9,
      "outputs": [
        {
          "output_type": "stream",
          "name": "stdout",
          "text": [
            "['13', '41', '07']\n",
            "['20', '00', '18']\n",
            "13:41:07-20:00:18 ความต่างของเวลาเป็นวินาทีเท่ากับ 22751 วินาที\n"
          ]
        }
      ]
    },
    {
      "cell_type": "code",
      "source": [
        "#ข้อ 3 21:30:15 - 00:00:00\n",
        "C ='21:30:15'\n",
        "C_sp = C.split(':')\n",
        "print(C_sp)\n",
        "ans_C=int(C_sp[0])*60*60+int(C_sp[1])*60 + int(C_sp[2])\n",
        "\n",
        "c ='24:00:00'\n",
        "c_sp = c.split(':')\n",
        "print(c_sp)\n",
        "ans_c=int(c_sp[0])*60*60+int(c_sp[1])*60 + int(c_sp[2])\n",
        "print(f'{C}-{c} ความต่างของเวลาเป็นวินาทีเท่ากับ {ans_c-ans_C} วินาที')"
      ],
      "metadata": {
        "colab": {
          "base_uri": "https://localhost:8080/"
        },
        "id": "hE_afxmdaqEc",
        "outputId": "1ff6dacc-cd4d-4f98-fa34-7e5cda15787d"
      },
      "execution_count": 8,
      "outputs": [
        {
          "output_type": "stream",
          "name": "stdout",
          "text": [
            "['21', '30', '15']\n",
            "['24', '00', '00']\n",
            "21:30:15-24:00:00 ความต่างของเวลาเป็นวินาทีเท่ากับ 8985 วินาที\n"
          ]
        }
      ]
    },
    {
      "cell_type": "code",
      "source": [
        "#ข้อ 4 00:00:00 - 23:59:59\n",
        "D ='24:00:00'\n",
        "D_sp = D.split(':')\n",
        "print(D_sp)\n",
        "ans_D=int(D_sp[0])*60*60+int(D_sp[1])*60 + int(D_sp[2])\n",
        "\n",
        "d ='23:59:59'\n",
        "d_sp = d.split(':')\n",
        "print(d_sp)\n",
        "ans_d=int(d_sp[0])*60*60+int(d_sp[1])*60 + int(d_sp[2])\n",
        "print(f'{D}-{d} ความต่างของเวลาเป็นวินาทีเท่ากับ {ans_D-ans_d} วินาที')"
      ],
      "metadata": {
        "colab": {
          "base_uri": "https://localhost:8080/"
        },
        "id": "6Bzp5eN3bhCU",
        "outputId": "bbb9a8c8-8af1-48da-d878-82cfef88eab4"
      },
      "execution_count": 10,
      "outputs": [
        {
          "output_type": "stream",
          "name": "stdout",
          "text": [
            "['24', '00', '00']\n",
            "['23', '59', '59']\n",
            "24:00:00-23:59:59 ความต่างของเวลาเป็นวินาทีเท่ากับ 1 วินาที\n"
          ]
        }
      ]
    }
  ]
}