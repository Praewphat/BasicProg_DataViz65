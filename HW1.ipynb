{
  "nbformat": 4,
  "nbformat_minor": 0,
  "metadata": {
    "colab": {
      "name": "HW1.ipynb",
      "provenance": [],
      "authorship_tag": "ABX9TyOdWqCHO9BUdOqlIfRBTBM3",
      "include_colab_link": true
    },
    "kernelspec": {
      "name": "python3",
      "display_name": "Python 3"
    },
    "language_info": {
      "name": "python"
    }
  },
  "cells": [
    {
      "cell_type": "markdown",
      "metadata": {
        "id": "view-in-github",
        "colab_type": "text"
      },
      "source": [
        "<a href=\"https://colab.research.google.com/github/Praewphat/BasicProg_DataViz65/blob/main/HW1.ipynb\" target=\"_parent\"><img src=\"https://colab.research.google.com/assets/colab-badge.svg\" alt=\"Open In Colab\"/></a>"
      ]
    },
    {
      "cell_type": "markdown",
      "source": [
        "### HW1"
      ],
      "metadata": {
        "id": "RQz_P1iEqyyM"
      }
    },
    {
      "cell_type": "markdown",
      "source": [
        "เขียน function แสดงความต่างของเวลา (Quiz1) โดย input อยู่ในรูปแบบ `'09:11:50 - 12:30:15'`\n",
        "\n"
      ],
      "metadata": {
        "id": "Juvo15XYq7EB"
      }
    },
    {
      "cell_type": "markdown",
      "source": [
        "และทดลองรัน"
      ],
      "metadata": {
        "id": "M5UY089Erp9j"
      }
    },
    {
      "cell_type": "markdown",
      "source": [
        "* '09:11:50 - 12:30:15'\n",
        "* '13:41:07 - 20:00:18'\n",
        "* '00:00:00 - 23:59:59'"
      ],
      "metadata": {
        "id": "PjS2NYoQrsZy"
      }
    },
    {
      "cell_type": "markdown",
      "source": [
        "###ข้อ1  `'09:11:50 - 12:30:15'`\n"
      ],
      "metadata": {
        "id": "pCucYyDmkZye"
      }
    },
    {
      "cell_type": "code",
      "source": [
        "def time_1(a1,a2,a3,A1,A2,A3):\n",
        "    A = ((A1*3600) + (A2*60) + A3) - ((a1*3600) + (a2*60) + a3)\n",
        "    return A\n",
        "\n",
        "print(f'ความต่างของเวลา 09:11:50 - 12:30:15 คือ {time_1(9,11,50,12,30,15)} วินาที')\n"
      ],
      "metadata": {
        "colab": {
          "base_uri": "https://localhost:8080/"
        },
        "id": "KHRXuUohkYt-",
        "outputId": "286660f5-9c74-4a5a-c958-2f2c95b930f7"
      },
      "execution_count": 2,
      "outputs": [
        {
          "output_type": "stream",
          "name": "stdout",
          "text": [
            "ความต่างของเวลา 09:11:50 - 12:30:15 คือ 11905 วินาที\n"
          ]
        }
      ]
    },
    {
      "cell_type": "markdown",
      "source": [
        "###ข้อ2 `'13:41:07 - 20:00:18'`"
      ],
      "metadata": {
        "id": "lxoUb7hSknHO"
      }
    },
    {
      "cell_type": "code",
      "source": [
        "def time_2(b1,b2,b3,B1,B2,B3):\n",
        "    B =  ((B1*3600) + (B2*60) + B3) - ((b1*3600) + (b2*60) + b3) \n",
        "    return B\n",
        "\n",
        "print(f'ความต่างของเวลา 13:41:07 - 20:00:18 คือ {time_2(13,41,7,20,0,18)} วินาที')"
      ],
      "metadata": {
        "colab": {
          "base_uri": "https://localhost:8080/"
        },
        "id": "h80rrOtGkuX1",
        "outputId": "59603d38-4fc5-4c61-8ddd-20fe51647bc2"
      },
      "execution_count": 14,
      "outputs": [
        {
          "output_type": "stream",
          "name": "stdout",
          "text": [
            "ความต่างของเวลา 13:41:07 - 20:00:18 คือ 22751 วินาที\n"
          ]
        }
      ]
    },
    {
      "cell_type": "markdown",
      "source": [
        "###ข้อ3 `'13:41:07 - 20:00:18'`\n",
        "\n",
        "\n"
      ],
      "metadata": {
        "id": "doEM60P7kqeR"
      }
    },
    {
      "cell_type": "code",
      "source": [
        "def time_3(c1,c2,c3,C1,C2,C3):\n",
        "    C =  ((C1*3600) + (C2*60) + C3) - ((c1*3600) + (c2*60) + c3)\n",
        "    return C\n",
        "\n",
        "print(f'ความต่างของเวลา 00:00:00 - 23:59:59 คือ {time_3(0,0,0,23,59,59)} วินาที')"
      ],
      "metadata": {
        "colab": {
          "base_uri": "https://localhost:8080/"
        },
        "id": "14uTPUX5mya_",
        "outputId": "eb636f61-c0a9-4022-e1d3-6b10724b1cc3"
      },
      "execution_count": 13,
      "outputs": [
        {
          "output_type": "stream",
          "name": "stdout",
          "text": [
            "ความต่างของเวลา 00:00:00 - 23:59:59 คือ 86399 วินาที\n"
          ]
        }
      ]
    }
  ]
}